{
 "cells": [
  {
   "cell_type": "code",
   "execution_count": 1,
   "id": "403bd67d-6840-48df-8cdb-3201a8087f90",
   "metadata": {},
   "outputs": [],
   "source": [
    "#Palabras Magicas para PY\n"
   ]
  },
  {
   "cell_type": "code",
   "execution_count": 2,
   "id": "96a52980-5ac4-4e71-bb4b-28e86e990cfa",
   "metadata": {},
   "outputs": [],
   "source": [
    "palabra=\"Murcielago\""
   ]
  },
  {
   "cell_type": "code",
   "execution_count": 3,
   "id": "73437075-822d-4553-82a3-11abec458b33",
   "metadata": {},
   "outputs": [
    {
     "data": {
      "text/plain": [
       "<function str.capitalize()>"
      ]
     },
     "execution_count": 3,
     "metadata": {},
     "output_type": "execute_result"
    }
   ],
   "source": [
    "palabra.capitalize"
   ]
  },
  {
   "cell_type": "code",
   "execution_count": 4,
   "id": "295ba091-b2a4-4a78-884c-32d7ce542f59",
   "metadata": {},
   "outputs": [
    {
     "data": {
      "text/plain": [
       "'Murcielago'"
      ]
     },
     "execution_count": 4,
     "metadata": {},
     "output_type": "execute_result"
    }
   ],
   "source": [
    "palabra.capitalize()"
   ]
  },
  {
   "cell_type": "code",
   "execution_count": 5,
   "id": "da7cb6cd-57c2-489d-ac41-f037e2b754a4",
   "metadata": {},
   "outputs": [
    {
     "data": {
      "text/plain": [
       "'MURCIELAGO'"
      ]
     },
     "execution_count": 5,
     "metadata": {},
     "output_type": "execute_result"
    }
   ],
   "source": [
    "palabra.upper()"
   ]
  },
  {
   "cell_type": "markdown",
   "id": "7b4bddce-c362-43e6-8916-d921e3667851",
   "metadata": {},
   "source": [
    "## type"
   ]
  },
  {
   "cell_type": "code",
   "execution_count": 7,
   "id": "df8a5456-e657-47e6-9170-541115f116e6",
   "metadata": {},
   "outputs": [
    {
     "data": {
      "text/plain": [
       "str"
      ]
     },
     "execution_count": 7,
     "metadata": {},
     "output_type": "execute_result"
    }
   ],
   "source": [
    "type(palabra)"
   ]
  },
  {
   "cell_type": "code",
   "execution_count": 8,
   "id": "730a5ec9-baa8-4b5e-8b32-018d6f1b6a94",
   "metadata": {},
   "outputs": [
    {
     "data": {
      "text/plain": [
       "'MURCIELAGO'"
      ]
     },
     "execution_count": 8,
     "metadata": {},
     "output_type": "execute_result"
    }
   ],
   "source": [
    "str.upper(palabra)"
   ]
  },
  {
   "cell_type": "code",
   "execution_count": 10,
   "id": "b6829af0-31b2-429b-9fe3-c62f7134155c",
   "metadata": {},
   "outputs": [
    {
     "data": {
      "text/plain": [
       "'o'"
      ]
     },
     "execution_count": 10,
     "metadata": {},
     "output_type": "execute_result"
    }
   ],
   "source": [
    "palabra[9]"
   ]
  },
  {
   "cell_type": "code",
   "execution_count": 11,
   "id": "fefe7387-c115-4b6b-98c3-37cdb8b4a873",
   "metadata": {},
   "outputs": [
    {
     "data": {
      "text/plain": [
       "'M'"
      ]
     },
     "execution_count": 11,
     "metadata": {},
     "output_type": "execute_result"
    }
   ],
   "source": [
    "palabra[-0]"
   ]
  },
  {
   "cell_type": "markdown",
   "id": "f53ad9e4-cfbc-40f7-98cc-ec6e12e8684a",
   "metadata": {},
   "source": [
    "## dir"
   ]
  },
  {
   "cell_type": "code",
   "execution_count": 13,
   "id": "6b89b2f6-b225-43d4-9b19-8670343f72fa",
   "metadata": {},
   "outputs": [],
   "source": [
    "frase=\"manama no hay clase, manama.....\""
   ]
  },
  {
   "cell_type": "code",
   "execution_count": 14,
   "id": "5cf6c836-ff62-4d79-88d0-b821b33dd4a9",
   "metadata": {},
   "outputs": [
    {
     "data": {
      "text/plain": [
       "['__add__',\n",
       " '__class__',\n",
       " '__contains__',\n",
       " '__delattr__',\n",
       " '__dir__',\n",
       " '__doc__',\n",
       " '__eq__',\n",
       " '__format__',\n",
       " '__ge__',\n",
       " '__getattribute__',\n",
       " '__getitem__',\n",
       " '__getnewargs__',\n",
       " '__getstate__',\n",
       " '__gt__',\n",
       " '__hash__',\n",
       " '__init__',\n",
       " '__init_subclass__',\n",
       " '__iter__',\n",
       " '__le__',\n",
       " '__len__',\n",
       " '__lt__',\n",
       " '__mod__',\n",
       " '__mul__',\n",
       " '__ne__',\n",
       " '__new__',\n",
       " '__reduce__',\n",
       " '__reduce_ex__',\n",
       " '__repr__',\n",
       " '__rmod__',\n",
       " '__rmul__',\n",
       " '__setattr__',\n",
       " '__sizeof__',\n",
       " '__str__',\n",
       " '__subclasshook__',\n",
       " 'capitalize',\n",
       " 'casefold',\n",
       " 'center',\n",
       " 'count',\n",
       " 'encode',\n",
       " 'endswith',\n",
       " 'expandtabs',\n",
       " 'find',\n",
       " 'format',\n",
       " 'format_map',\n",
       " 'index',\n",
       " 'isalnum',\n",
       " 'isalpha',\n",
       " 'isascii',\n",
       " 'isdecimal',\n",
       " 'isdigit',\n",
       " 'isidentifier',\n",
       " 'islower',\n",
       " 'isnumeric',\n",
       " 'isprintable',\n",
       " 'isspace',\n",
       " 'istitle',\n",
       " 'isupper',\n",
       " 'join',\n",
       " 'ljust',\n",
       " 'lower',\n",
       " 'lstrip',\n",
       " 'maketrans',\n",
       " 'partition',\n",
       " 'removeprefix',\n",
       " 'removesuffix',\n",
       " 'replace',\n",
       " 'rfind',\n",
       " 'rindex',\n",
       " 'rjust',\n",
       " 'rpartition',\n",
       " 'rsplit',\n",
       " 'rstrip',\n",
       " 'split',\n",
       " 'splitlines',\n",
       " 'startswith',\n",
       " 'strip',\n",
       " 'swapcase',\n",
       " 'title',\n",
       " 'translate',\n",
       " 'upper',\n",
       " 'zfill']"
      ]
     },
     "execution_count": 14,
     "metadata": {},
     "output_type": "execute_result"
    }
   ],
   "source": [
    "dir(frase)"
   ]
  },
  {
   "cell_type": "markdown",
   "id": "2cffd519-6817-4f7e-af9c-9818340f21a7",
   "metadata": {},
   "source": [
    "## help"
   ]
  },
  {
   "cell_type": "code",
   "execution_count": 15,
   "id": "a1094330-6f47-407c-8131-34ea499c521c",
   "metadata": {},
   "outputs": [
    {
     "name": "stdout",
     "output_type": "stream",
     "text": [
      "Help on built-in function count:\n",
      "\n",
      "count(...) method of builtins.str instance\n",
      "    S.count(sub[, start[, end]]) -> int\n",
      "\n",
      "    Return the number of non-overlapping occurrences of substring sub in\n",
      "    string S[start:end].  Optional arguments start and end are\n",
      "    interpreted as in slice notation.\n",
      "\n"
     ]
    }
   ],
   "source": [
    "help(palabra.count)"
   ]
  },
  {
   "cell_type": "code",
   "execution_count": 16,
   "id": "8a9c4fdd-3193-4bf0-898e-d918db10094d",
   "metadata": {},
   "outputs": [
    {
     "data": {
      "text/plain": [
       "8"
      ]
     },
     "execution_count": 16,
     "metadata": {},
     "output_type": "execute_result"
    }
   ],
   "source": [
    "frase.count(\"a\")"
   ]
  },
  {
   "cell_type": "code",
   "execution_count": 17,
   "id": "a4b9a825-61b2-4ae3-b792-0ebc5b0e777b",
   "metadata": {},
   "outputs": [
    {
     "data": {
      "text/plain": [
       "1"
      ]
     },
     "execution_count": 17,
     "metadata": {},
     "output_type": "execute_result"
    }
   ],
   "source": [
    "palabra.count(\"a\")"
   ]
  },
  {
   "cell_type": "code",
   "execution_count": 18,
   "id": "6a2ddb68-1171-43d6-a404-02b347334770",
   "metadata": {},
   "outputs": [
    {
     "data": {
      "text/plain": [
       "4"
      ]
     },
     "execution_count": 18,
     "metadata": {},
     "output_type": "execute_result"
    }
   ],
   "source": [
    "frase.count(\" \")"
   ]
  },
  {
   "cell_type": "code",
   "execution_count": 19,
   "id": "9792002e-043a-40d6-9a9c-e7ebf6817d28",
   "metadata": {},
   "outputs": [
    {
     "data": {
      "text/plain": [
       "'ur'"
      ]
     },
     "execution_count": 19,
     "metadata": {},
     "output_type": "execute_result"
    }
   ],
   "source": [
    "palabra[1:3]"
   ]
  },
  {
   "cell_type": "code",
   "execution_count": 20,
   "id": "c36333f4-d043-4277-a7ab-c637e721a642",
   "metadata": {},
   "outputs": [
    {
     "data": {
      "text/plain": [
       "'cielago'"
      ]
     },
     "execution_count": 20,
     "metadata": {},
     "output_type": "execute_result"
    }
   ],
   "source": [
    "palabra[3:]"
   ]
  },
  {
   "cell_type": "code",
   "execution_count": 21,
   "id": "95e6bf32-cfc2-495a-8906-8b2d29d244f3",
   "metadata": {},
   "outputs": [
    {
     "name": "stdout",
     "output_type": "stream",
     "text": [
      "Help on built-in function split:\n",
      "\n",
      "split(sep=None, maxsplit=-1) method of builtins.str instance\n",
      "    Return a list of the substrings in the string, using sep as the separator string.\n",
      "\n",
      "      sep\n",
      "        The separator used to split the string.\n",
      "\n",
      "        When set to None (the default value), will split on any whitespace\n",
      "        character (including \\n \\r \\t \\f and spaces) and will discard\n",
      "        empty strings from the result.\n",
      "      maxsplit\n",
      "        Maximum number of splits.\n",
      "        -1 (the default value) means no limit.\n",
      "\n",
      "    Splitting starts at the front of the string and works to the end.\n",
      "\n",
      "    Note, str.split() is mainly useful for data that has been intentionally\n",
      "    delimited.  With natural text that includes punctuation, consider using\n",
      "    the regular expression module.\n",
      "\n"
     ]
    }
   ],
   "source": [
    "help(frase.split)"
   ]
  },
  {
   "cell_type": "code",
   "execution_count": 22,
   "id": "095b029b-437f-45e5-9896-e052f641a039",
   "metadata": {},
   "outputs": [
    {
     "data": {
      "text/plain": [
       "['manama no hay clase, manama.....']"
      ]
     },
     "execution_count": 22,
     "metadata": {},
     "output_type": "execute_result"
    }
   ],
   "source": [
    "frase.split (\"1\")"
   ]
  },
  {
   "cell_type": "code",
   "execution_count": 23,
   "id": "40244603-5997-4bcb-95f2-c06234f90e7d",
   "metadata": {},
   "outputs": [
    {
     "data": {
      "text/plain": [
       "['manama', 'no', 'hay', 'clase,', 'manama.....']"
      ]
     },
     "execution_count": 23,
     "metadata": {},
     "output_type": "execute_result"
    }
   ],
   "source": [
    "frase.split (\" \")"
   ]
  },
  {
   "cell_type": "code",
   "execution_count": 24,
   "id": "6422b699-efb5-47bf-8abb-ceaaa30fe3a4",
   "metadata": {},
   "outputs": [
    {
     "data": {
      "text/plain": [
       "['manama no hay clase, manama.....']"
      ]
     },
     "execution_count": 24,
     "metadata": {},
     "output_type": "execute_result"
    }
   ],
   "source": [
    "frase.split (\"4\")"
   ]
  },
  {
   "cell_type": "code",
   "execution_count": 25,
   "id": "c87545b7-e4dd-4c8f-a514-e55f52104f25",
   "metadata": {},
   "outputs": [
    {
     "data": {
      "text/plain": [
       "['manama no hay clase, manama.....']"
      ]
     },
     "execution_count": 25,
     "metadata": {},
     "output_type": "execute_result"
    }
   ],
   "source": [
    "frase.split (\"z\")"
   ]
  },
  {
   "cell_type": "code",
   "execution_count": 26,
   "id": "c5651255-f1d1-4a24-bfde-0627778a1aa9",
   "metadata": {},
   "outputs": [
    {
     "data": {
      "text/plain": [
       "['manama no hay clase, manama.....']"
      ]
     },
     "execution_count": 26,
     "metadata": {},
     "output_type": "execute_result"
    }
   ],
   "source": [
    "frase.split (\"%alias\")"
   ]
  },
  {
   "cell_type": "code",
   "execution_count": 27,
   "id": "f4e0fadf-5388-40ac-8007-9de0eef32ba9",
   "metadata": {},
   "outputs": [
    {
     "data": {
      "text/plain": [
       "['manama no hay clase, manama.....']"
      ]
     },
     "execution_count": 27,
     "metadata": {},
     "output_type": "execute_result"
    }
   ],
   "source": [
    "frase.split (\"-1\")"
   ]
  },
  {
   "cell_type": "code",
   "execution_count": 28,
   "id": "b96f2a96-478e-4bf0-89a1-13f9e5177f84",
   "metadata": {},
   "outputs": [
    {
     "data": {
      "text/plain": [
       "['manama no hay clase', ' manama.....']"
      ]
     },
     "execution_count": 28,
     "metadata": {},
     "output_type": "execute_result"
    }
   ],
   "source": [
    "frase.split (\",\")"
   ]
  },
  {
   "cell_type": "code",
   "execution_count": 29,
   "id": "2de2800d-9f68-46be-8fa2-85e12da7839b",
   "metadata": {},
   "outputs": [
    {
     "ename": "TypeError",
     "evalue": "replace expected at least 2 arguments, got 1",
     "output_type": "error",
     "traceback": [
      "\u001b[1;31m---------------------------------------------------------------------------\u001b[0m",
      "\u001b[1;31mTypeError\u001b[0m                                 Traceback (most recent call last)",
      "Cell \u001b[1;32mIn[29], line 1\u001b[0m\n\u001b[1;32m----> 1\u001b[0m frase\u001b[38;5;241m.\u001b[39mreplace(\u001b[38;5;124m\"\u001b[39m\u001b[38;5;124m \u001b[39m\u001b[38;5;124m\"\u001b[39m)\n",
      "\u001b[1;31mTypeError\u001b[0m: replace expected at least 2 arguments, got 1"
     ]
    }
   ],
   "source": [
    "frase.replace(\" \")"
   ]
  },
  {
   "cell_type": "code",
   "execution_count": 30,
   "id": "5e0fb652-dbdf-4485-9182-7b4d4e60005a",
   "metadata": {},
   "outputs": [
    {
     "ename": "TypeError",
     "evalue": "replace expected at least 2 arguments, got 1",
     "output_type": "error",
     "traceback": [
      "\u001b[1;31m---------------------------------------------------------------------------\u001b[0m",
      "\u001b[1;31mTypeError\u001b[0m                                 Traceback (most recent call last)",
      "Cell \u001b[1;32mIn[30], line 1\u001b[0m\n\u001b[1;32m----> 1\u001b[0m frase\u001b[38;5;241m.\u001b[39mreplace(\u001b[38;5;124m\"\u001b[39m\u001b[38;5;124mhelp\u001b[39m\u001b[38;5;124m\"\u001b[39m)\n",
      "\u001b[1;31mTypeError\u001b[0m: replace expected at least 2 arguments, got 1"
     ]
    }
   ],
   "source": [
    "frase.replace(\"help\")"
   ]
  },
  {
   "cell_type": "code",
   "execution_count": 31,
   "id": "e83f50b8-8a45-43c6-9877-8ff1e0bcc875",
   "metadata": {},
   "outputs": [
    {
     "ename": "TypeError",
     "evalue": "replace expected at least 2 arguments, got 1",
     "output_type": "error",
     "traceback": [
      "\u001b[1;31m---------------------------------------------------------------------------\u001b[0m",
      "\u001b[1;31mTypeError\u001b[0m                                 Traceback (most recent call last)",
      "Cell \u001b[1;32mIn[31], line 1\u001b[0m\n\u001b[1;32m----> 1\u001b[0m frase\u001b[38;5;241m.\u001b[39mreplace(\u001b[38;5;124m\"\u001b[39m\u001b[38;5;124mmanana\u001b[39m\u001b[38;5;124m\"\u001b[39m)\n",
      "\u001b[1;31mTypeError\u001b[0m: replace expected at least 2 arguments, got 1"
     ]
    }
   ],
   "source": [
    "frase.replace(\"manana\")"
   ]
  },
  {
   "cell_type": "code",
   "execution_count": 32,
   "id": "0745f333-de4b-46b0-a6c1-16b398000e3d",
   "metadata": {},
   "outputs": [
    {
     "ename": "TypeError",
     "evalue": "replace expected at least 2 arguments, got 1",
     "output_type": "error",
     "traceback": [
      "\u001b[1;31m---------------------------------------------------------------------------\u001b[0m",
      "\u001b[1;31mTypeError\u001b[0m                                 Traceback (most recent call last)",
      "Cell \u001b[1;32mIn[32], line 1\u001b[0m\n\u001b[1;32m----> 1\u001b[0m frase\u001b[38;5;241m.\u001b[39mreplace(\u001b[38;5;124m\"\u001b[39m\u001b[38;5;124msplit\u001b[39m\u001b[38;5;124m\"\u001b[39m)\n",
      "\u001b[1;31mTypeError\u001b[0m: replace expected at least 2 arguments, got 1"
     ]
    }
   ],
   "source": [
    "frase.replace(\"split\")"
   ]
  },
  {
   "cell_type": "code",
   "execution_count": 34,
   "id": "3330e185-636a-4161-8d34-ec967664799a",
   "metadata": {},
   "outputs": [
    {
     "ename": "AttributeError",
     "evalue": "'_Helper' object has no attribute 'manana'",
     "output_type": "error",
     "traceback": [
      "\u001b[1;31m---------------------------------------------------------------------------\u001b[0m",
      "\u001b[1;31mAttributeError\u001b[0m                            Traceback (most recent call last)",
      "Cell \u001b[1;32mIn[34], line 1\u001b[0m\n\u001b[1;32m----> 1\u001b[0m frase\u001b[38;5;241m.\u001b[39mreplace(help\u001b[38;5;241m.\u001b[39mmanana(\u001b[38;5;124m\"\u001b[39m\u001b[38;5;124m \u001b[39m\u001b[38;5;124m\"\u001b[39m))\n",
      "\u001b[1;31mAttributeError\u001b[0m: '_Helper' object has no attribute 'manana'"
     ]
    }
   ],
   "source": [
    "frase.replace(help.manana(\" \"))"
   ]
  },
  {
   "cell_type": "code",
   "execution_count": 35,
   "id": "eb07210c-8bd1-4d5d-83f0-99c8a39673df",
   "metadata": {},
   "outputs": [
    {
     "data": {
      "text/plain": [
       "'manama no hay clase, manama.....'"
      ]
     },
     "execution_count": 35,
     "metadata": {},
     "output_type": "execute_result"
    }
   ],
   "source": [
    "frase.replace(\"manana\",\"mama\")"
   ]
  },
  {
   "cell_type": "code",
   "execution_count": 36,
   "id": "ad11cf74-04c5-4f91-bddc-ebcdb96cea0c",
   "metadata": {},
   "outputs": [
    {
     "data": {
      "text/plain": [
       "'manama no hay clase, manama.....'"
      ]
     },
     "execution_count": 36,
     "metadata": {},
     "output_type": "execute_result"
    }
   ],
   "source": [
    "frase.replace(\"manana\",\"pasado\")"
   ]
  },
  {
   "cell_type": "code",
   "execution_count": 37,
   "id": "25e3ddf0-81c4-47b9-b245-7c622f40685a",
   "metadata": {},
   "outputs": [
    {
     "data": {
      "text/plain": [
       "'manama no hay futbol, manama.....'"
      ]
     },
     "execution_count": 37,
     "metadata": {},
     "output_type": "execute_result"
    }
   ],
   "source": [
    "frase.replace(\"clase\",\"futbol\")"
   ]
  },
  {
   "cell_type": "code",
   "execution_count": 38,
   "id": "b097215e-6eaa-4580-a1f8-c95d6bb3c578",
   "metadata": {},
   "outputs": [
    {
     "data": {
      "text/plain": [
       "'manama no hay clase, manama.....'"
      ]
     },
     "execution_count": 38,
     "metadata": {},
     "output_type": "execute_result"
    }
   ],
   "source": [
    "frase.replace(\"manana.....\",\"todas mienten\")"
   ]
  },
  {
   "cell_type": "code",
   "execution_count": null,
   "id": "c19ae831-c925-475e-a4c0-1d25d55e8070",
   "metadata": {},
   "outputs": [],
   "source": []
  }
 ],
 "metadata": {
  "kernelspec": {
   "display_name": "Python [conda env:base] *",
   "language": "python",
   "name": "conda-base-py"
  },
  "language_info": {
   "codemirror_mode": {
    "name": "ipython",
    "version": 3
   },
   "file_extension": ".py",
   "mimetype": "text/x-python",
   "name": "python",
   "nbconvert_exporter": "python",
   "pygments_lexer": "ipython3",
   "version": "3.12.7"
  }
 },
 "nbformat": 4,
 "nbformat_minor": 5
}
