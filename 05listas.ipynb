{
 "cells": [
  {
   "cell_type": "code",
   "execution_count": 26,
   "id": "3c115d36-36ed-4779-a5dd-8a37e7229358",
   "metadata": {},
   "outputs": [],
   "source": [
    "frutas=[\"Aguate\",\"Banana\",\"Papaya\",\"Pera\",\"Manzana\"]"
   ]
  },
  {
   "cell_type": "code",
   "execution_count": 27,
   "id": "65322f15-f945-4307-b607-7d304dfe0ff1",
   "metadata": {},
   "outputs": [
    {
     "data": {
      "text/plain": [
       "list"
      ]
     },
     "execution_count": 27,
     "metadata": {},
     "output_type": "execute_result"
    }
   ],
   "source": [
    "type(frutas)"
   ]
  },
  {
   "cell_type": "code",
   "execution_count": 28,
   "id": "e42be23c-3047-439e-8714-38000d6273b6",
   "metadata": {},
   "outputs": [
    {
     "data": {
      "text/plain": [
       "list"
      ]
     },
     "execution_count": 28,
     "metadata": {},
     "output_type": "execute_result"
    }
   ],
   "source": [
    "listas=[[1,2,3],[\"a\",\"b\",\"c\"],[True, False]]\n",
    "type(listas)"
   ]
  },
  {
   "cell_type": "code",
   "execution_count": 29,
   "id": "8dc19027-2cf2-4245-8c1b-66bc6c8619d3",
   "metadata": {},
   "outputs": [],
   "source": [
    "mixtas=[1,\"a\", True, 3.14]"
   ]
  },
  {
   "cell_type": "code",
   "execution_count": 30,
   "id": "61031d33-2936-45b5-ab60-ab7368a586e6",
   "metadata": {},
   "outputs": [
    {
     "data": {
      "text/plain": [
       "list"
      ]
     },
     "execution_count": 30,
     "metadata": {},
     "output_type": "execute_result"
    }
   ],
   "source": [
    "type(mixtas)"
   ]
  },
  {
   "cell_type": "code",
   "execution_count": 31,
   "id": "781c3e39-8097-4296-b40e-749fff9e63df",
   "metadata": {},
   "outputs": [],
   "source": [
    "frutas.append(\"Banana\")"
   ]
  },
  {
   "cell_type": "code",
   "execution_count": 32,
   "id": "dc34a15e-8f25-4ee9-ab94-2818395bdd4f",
   "metadata": {},
   "outputs": [],
   "source": [
    "frutas.insert(4,\"verengena\")"
   ]
  },
  {
   "cell_type": "code",
   "execution_count": 33,
   "id": "d30cec17-f12c-4bf6-9179-349dcf2a1987",
   "metadata": {},
   "outputs": [],
   "source": [
    "frutas.remove(\"Pera\")"
   ]
  },
  {
   "cell_type": "code",
   "execution_count": 34,
   "id": "483a6a72-99c5-4268-a87d-d490df43cf2f",
   "metadata": {},
   "outputs": [
    {
     "name": "stdout",
     "output_type": "stream",
     "text": [
      "['Aguate', 'Banana', 'Papaya', 'verengena', 'Manzana', 'Banana']\n"
     ]
    }
   ],
   "source": [
    "print(frutas)"
   ]
  },
  {
   "cell_type": "raw",
   "id": "9ea3e7a8-55b2-4e9d-9357-ffad71e489ce",
   "metadata": {},
   "source": [
    "frutas.sort()\n"
   ]
  },
  {
   "cell_type": "code",
   "execution_count": 35,
   "id": "fba117cb-f3e4-4054-91c1-087da5b70ba6",
   "metadata": {},
   "outputs": [],
   "source": [
    "frutas.remove(\"Banana\")"
   ]
  },
  {
   "cell_type": "code",
   "execution_count": 36,
   "id": "6440b06c-7005-4ce9-8d52-166f50510256",
   "metadata": {},
   "outputs": [
    {
     "name": "stdout",
     "output_type": "stream",
     "text": [
      "['Aguate', 'Papaya', 'verengena', 'Manzana', 'Banana']\n"
     ]
    }
   ],
   "source": [
    "print(frutas)"
   ]
  },
  {
   "cell_type": "code",
   "execution_count": 37,
   "id": "bf1f886e-8969-4dd4-bd65-7c8014afb79e",
   "metadata": {},
   "outputs": [
    {
     "data": {
      "text/plain": [
       "5"
      ]
     },
     "execution_count": 37,
     "metadata": {},
     "output_type": "execute_result"
    }
   ],
   "source": [
    "len(\"Baruc\")"
   ]
  },
  {
   "cell_type": "code",
   "execution_count": 38,
   "id": "affbe127-2bdb-45c6-a23c-30bd3439009c",
   "metadata": {},
   "outputs": [
    {
     "data": {
      "text/plain": [
       "6"
      ]
     },
     "execution_count": 38,
     "metadata": {},
     "output_type": "execute_result"
    }
   ],
   "source": [
    "len(\"frutas\")"
   ]
  },
  {
   "cell_type": "code",
   "execution_count": 39,
   "id": "ce1533e4-ee51-423d-87f6-7cd99edc5b8e",
   "metadata": {},
   "outputs": [
    {
     "data": {
      "text/plain": [
       "['__add__',\n",
       " '__class__',\n",
       " '__class_getitem__',\n",
       " '__contains__',\n",
       " '__delattr__',\n",
       " '__delitem__',\n",
       " '__dir__',\n",
       " '__doc__',\n",
       " '__eq__',\n",
       " '__format__',\n",
       " '__ge__',\n",
       " '__getattribute__',\n",
       " '__getitem__',\n",
       " '__getstate__',\n",
       " '__gt__',\n",
       " '__hash__',\n",
       " '__iadd__',\n",
       " '__imul__',\n",
       " '__init__',\n",
       " '__init_subclass__',\n",
       " '__iter__',\n",
       " '__le__',\n",
       " '__len__',\n",
       " '__lt__',\n",
       " '__mul__',\n",
       " '__ne__',\n",
       " '__new__',\n",
       " '__reduce__',\n",
       " '__reduce_ex__',\n",
       " '__repr__',\n",
       " '__reversed__',\n",
       " '__rmul__',\n",
       " '__setattr__',\n",
       " '__setitem__',\n",
       " '__sizeof__',\n",
       " '__str__',\n",
       " '__subclasshook__',\n",
       " 'append',\n",
       " 'clear',\n",
       " 'copy',\n",
       " 'count',\n",
       " 'extend',\n",
       " 'index',\n",
       " 'insert',\n",
       " 'pop',\n",
       " 'remove',\n",
       " 'reverse',\n",
       " 'sort']"
      ]
     },
     "execution_count": 39,
     "metadata": {},
     "output_type": "execute_result"
    }
   ],
   "source": [
    "dir(frutas)"
   ]
  },
  {
   "cell_type": "code",
   "execution_count": 42,
   "id": "4b5ce95d-7ba8-4f4f-aa65-c2b6d146517a",
   "metadata": {},
   "outputs": [
    {
     "data": {
      "text/plain": [
       "[1, 2, 3, 4, 5, 6]"
      ]
     },
     "execution_count": 42,
     "metadata": {},
     "output_type": "execute_result"
    }
   ],
   "source": [
    "lista1=[1,2,3]\n",
    "lista2=[4,5,6]\n",
    "conbinada=lista1+lista2\n",
    "conbinada"
   ]
  },
  {
   "cell_type": "code",
   "execution_count": 45,
   "id": "38700556-9c6f-44dd-a0ee-8d57f7d84569",
   "metadata": {},
   "outputs": [
    {
     "data": {
      "text/plain": [
       "[1, 2, 3, 1, 2, 3, 1, 2, 3, 1, 2, 3, 1, 2, 3]"
      ]
     },
     "execution_count": 45,
     "metadata": {},
     "output_type": "execute_result"
    }
   ],
   "source": [
    "lista1=[1,2,3]\n",
    "lista2=[4,5,6]\n",
    "lista1*5"
   ]
  },
  {
   "cell_type": "code",
   "execution_count": 46,
   "id": "d67233f7-048d-4804-8bee-6d46077ffdeb",
   "metadata": {},
   "outputs": [
    {
     "data": {
      "text/plain": [
       "[2, 3, 4]"
      ]
     },
     "execution_count": 46,
     "metadata": {},
     "output_type": "execute_result"
    }
   ],
   "source": [
    "sublista=conbinada[1:4]\n",
    "sublista"
   ]
  },
  {
   "cell_type": "code",
   "execution_count": 47,
   "id": "2b9568b2-528b-49cd-92ba-ee2fa9f12dd4",
   "metadata": {},
   "outputs": [
    {
     "data": {
      "text/plain": [
       "tuple"
      ]
     },
     "execution_count": 47,
     "metadata": {},
     "output_type": "execute_result"
    }
   ],
   "source": [
    "t=1,2\n",
    "type(t)"
   ]
  },
  {
   "cell_type": "code",
   "execution_count": 48,
   "id": "fcab758c-a51a-49b2-8b3e-d2b2a339f922",
   "metadata": {},
   "outputs": [
    {
     "data": {
      "text/plain": [
       "2"
      ]
     },
     "execution_count": 48,
     "metadata": {},
     "output_type": "execute_result"
    }
   ],
   "source": [
    "t2=(1,2,3)\n",
    "t2[1]"
   ]
  },
  {
   "cell_type": "code",
   "execution_count": 51,
   "id": "43f54b1e-09b7-4be1-99ad-acb85a692146",
   "metadata": {},
   "outputs": [
    {
     "data": {
      "text/plain": [
       "tuple"
      ]
     },
     "execution_count": 51,
     "metadata": {},
     "output_type": "execute_result"
    }
   ],
   "source": [
    "tm=(\"Dereeck\",\"Lainez\",19)\n",
    "type(tm)"
   ]
  },
  {
   "cell_type": "code",
   "execution_count": 52,
   "id": "33b8fe78-a1f4-406e-8fb5-8b4a5ded9e11",
   "metadata": {},
   "outputs": [
    {
     "data": {
      "text/plain": [
       "'Lainez'"
      ]
     },
     "execution_count": 52,
     "metadata": {},
     "output_type": "execute_result"
    }
   ],
   "source": [
    "elemento=tm[1]\n",
    "elemento"
   ]
  },
  {
   "cell_type": "code",
   "execution_count": 54,
   "id": "7546f159-71ab-4893-bf18-49cfc1a9f9c5",
   "metadata": {},
   "outputs": [
    {
     "data": {
      "text/plain": [
       "'LAINEZ'"
      ]
     },
     "execution_count": 54,
     "metadata": {},
     "output_type": "execute_result"
    }
   ],
   "source": [
    "elemento.upper()"
   ]
  },
  {
   "cell_type": "code",
   "execution_count": 58,
   "id": "1911785d-cb23-40b3-ae18-7d5b6cf20687",
   "metadata": {},
   "outputs": [
    {
     "data": {
      "text/plain": [
       "3"
      ]
     },
     "execution_count": 58,
     "metadata": {},
     "output_type": "execute_result"
    }
   ],
   "source": [
    "tupla=(1,2,3)\n",
    "tupla[0]\n",
    "a,b,c=tupla\n",
    "c"
   ]
  },
  {
   "cell_type": "code",
   "execution_count": 60,
   "id": "7b3a3388-0dae-4631-aac5-fd6f2d6057d6",
   "metadata": {},
   "outputs": [
    {
     "data": {
      "text/plain": [
       "[(20, 1, 2006), ('Dereeck', 'Lainez')]"
      ]
     },
     "execution_count": 60,
     "metadata": {},
     "output_type": "execute_result"
    }
   ],
   "source": [
    "nacimiento=(20,1,2006)\n",
    "cliente=(\"Dereeck\",\"Lainez\")\n",
    "info=[nacimiento,cliente]\n",
    "info"
   ]
  },
  {
   "cell_type": "code",
   "execution_count": null,
   "id": "df6bec8b-bfb8-4993-af89-cd3303380d56",
   "metadata": {},
   "outputs": [],
   "source": []
  }
 ],
 "metadata": {
  "kernelspec": {
   "display_name": "Python [conda env:base] *",
   "language": "python",
   "name": "conda-base-py"
  },
  "language_info": {
   "codemirror_mode": {
    "name": "ipython",
    "version": 3
   },
   "file_extension": ".py",
   "mimetype": "text/x-python",
   "name": "python",
   "nbconvert_exporter": "python",
   "pygments_lexer": "ipython3",
   "version": "3.12.7"
  }
 },
 "nbformat": 4,
 "nbformat_minor": 5
}
