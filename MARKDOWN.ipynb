{
 "cells": [
  {
   "cell_type": "code",
   "execution_count": 1,
   "id": "658a691f-b95c-44a0-82b0-173b5cecfd3f",
   "metadata": {},
   "outputs": [
    {
     "data": {
      "text/plain": [
       "3"
      ]
     },
     "execution_count": 1,
     "metadata": {},
     "output_type": "execute_result"
    }
   ],
   "source": [
    "1+2"
   ]
  },
  {
   "cell_type": "code",
   "execution_count": 2,
   "id": "83495447-e825-4e4d-ae11-3555ec9f8e99",
   "metadata": {},
   "outputs": [
    {
     "data": {
      "text/plain": [
       "3"
      ]
     },
     "execution_count": 2,
     "metadata": {},
     "output_type": "execute_result"
    }
   ],
   "source": [
    "A=1+2\n",
    "A"
   ]
  },
  {
   "cell_type": "code",
   "execution_count": 5,
   "id": "29ea8cec-eb3e-4375-a03c-4ee5634107eb",
   "metadata": {},
   "outputs": [],
   "source": [
    "#TODAS MIENTENNNN!!"
   ]
  },
  {
   "cell_type": "markdown",
   "id": "d5803b57-358f-4fc9-8907-078552f18e9e",
   "metadata": {},
   "source": [
    "# Dereeck Baruc Lainez Castellanos\n",
    "## Santa Barbara\n",
    "* El llano el Conejo"
   ]
  },
  {
   "cell_type": "markdown",
   "id": "1ef3faaa-ec3e-4287-baf4-ff4d945dca15",
   "metadata": {},
   "source": []
  }
 ],
 "metadata": {
  "kernelspec": {
   "display_name": "Python [conda env:base] *",
   "language": "python",
   "name": "conda-base-py"
  },
  "language_info": {
   "codemirror_mode": {
    "name": "ipython",
    "version": 3
   },
   "file_extension": ".py",
   "mimetype": "text/x-python",
   "name": "python",
   "nbconvert_exporter": "python",
   "pygments_lexer": "ipython3",
   "version": "3.12.7"
  }
 },
 "nbformat": 4,
 "nbformat_minor": 5
}
