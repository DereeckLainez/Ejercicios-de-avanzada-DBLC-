{
 "cells": [
  {
   "cell_type": "code",
   "execution_count": 2,
   "id": "114078c8-b8c3-495b-897f-7c9491dab781",
   "metadata": {},
   "outputs": [
    {
     "data": {
      "text/plain": [
       "dict"
      ]
     },
     "execution_count": 2,
     "metadata": {},
     "output_type": "execute_result"
    }
   ],
   "source": [
    "dic={}\n",
    "type(dic)"
   ]
  },
  {
   "cell_type": "code",
   "execution_count": 4,
   "id": "fe1442bd-e067-44d2-bb25-e78f5b2afba7",
   "metadata": {},
   "outputs": [
    {
     "data": {
      "text/plain": [
       "{'Funes': 11, 'Rafa': 30, 'Cleofas': 22, 'Baruc': 28}"
      ]
     },
     "execution_count": 4,
     "metadata": {},
     "output_type": "execute_result"
    }
   ],
   "source": [
    "edades={\"Funes\":25,\"Rafa\":30,\"Cleofas\": 22, \"Baruc\": 28}\n",
    "edades[\"Funes\"]=11\n",
    "edades"
   ]
  },
  {
   "cell_type": "code",
   "execution_count": 5,
   "id": "65f7aa71-f281-4929-841b-5a9bd78291a0",
   "metadata": {},
   "outputs": [
    {
     "data": {
      "text/plain": [
       "dict_keys(['Funes', 'Rafa', 'Cleofas', 'Baruc'])"
      ]
     },
     "execution_count": 5,
     "metadata": {},
     "output_type": "execute_result"
    }
   ],
   "source": [
    "edades.keys()"
   ]
  },
  {
   "cell_type": "code",
   "execution_count": 7,
   "id": "39ac0177-0273-4061-ac32-ca89d9281741",
   "metadata": {},
   "outputs": [
    {
     "data": {
      "text/plain": [
       "dict_values([11, 30, 22, 28])"
      ]
     },
     "execution_count": 7,
     "metadata": {},
     "output_type": "execute_result"
    }
   ],
   "source": [
    "edades.values()"
   ]
  },
  {
   "cell_type": "code",
   "execution_count": 8,
   "id": "4d6dd026-f483-4b70-b349-8ab6b2aacb3a",
   "metadata": {},
   "outputs": [
    {
     "data": {
      "text/plain": [
       "dict_items([('Funes', 11), ('Rafa', 30), ('Cleofas', 22), ('Baruc', 28)])"
      ]
     },
     "execution_count": 8,
     "metadata": {},
     "output_type": "execute_result"
    }
   ],
   "source": [
    "edades.items()"
   ]
  },
  {
   "cell_type": "code",
   "execution_count": 9,
   "id": "a8e66492-579e-4b3b-888f-84590999f93f",
   "metadata": {},
   "outputs": [
    {
     "data": {
      "text/plain": [
       "30"
      ]
     },
     "execution_count": 9,
     "metadata": {},
     "output_type": "execute_result"
    }
   ],
   "source": [
    "edades.get(\"Rafa\")"
   ]
  },
  {
   "cell_type": "code",
   "execution_count": null,
   "id": "9001ca37-bace-4a73-a054-3cfd2992d134",
   "metadata": {},
   "outputs": [],
   "source": []
  }
 ],
 "metadata": {
  "kernelspec": {
   "display_name": "Python [conda env:base] *",
   "language": "python",
   "name": "conda-base-py"
  },
  "language_info": {
   "codemirror_mode": {
    "name": "ipython",
    "version": 3
   },
   "file_extension": ".py",
   "mimetype": "text/x-python",
   "name": "python",
   "nbconvert_exporter": "python",
   "pygments_lexer": "ipython3",
   "version": "3.12.7"
  }
 },
 "nbformat": 4,
 "nbformat_minor": 5
}
